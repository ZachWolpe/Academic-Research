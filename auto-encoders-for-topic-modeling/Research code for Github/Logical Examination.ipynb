{
 "cells": [
  {
   "cell_type": "markdown",
   "metadata": {},
   "source": [
    "# Logical Examination\n",
    "\n",
    "```\n",
    "Author:\n",
    "    Zach Wolpe\n",
    "    zachcolinwolpe@gmail.com\n",
    "    www.zachwolpe.com\n",
    "```\n",
    "\n",
    "To address the question:\n",
    "\n",
    "__Why Does The Autoencoder Deliver Inadequate Performance?__\n",
    "\n",
    "Consider the structural makeup of an autoencoder:\n",
    "\n",
    "A probabilistic neural network wherein the response variable is the independent variable and as such attempts to map the some information into a compressed -lower dimensional- space. Probalistic in the sense that the encoded data is represented as a distribution (a Gaussian) and as such the moments of the distribution are learnt.\n",
    "\n",
    "The weights and biases of the autoencoder are randomized at $0.5$ and $0$ as to be as neutral as possible: being random starting values that bare no influence on the end results.\n",
    "\n",
    "## Expirment\n",
    "\n",
    "To assess the poor performance of the autoencoder, analysis is conducted on the early stages of parameter tuning/weight updating. It is plausible the autoencoder:\n",
    " - biases towards certain topics, not exploring the space of possibilities properly.\n",
    " - overemphasizes the importance of the initial random conditions, making the conditionaly probability of of a topic seletion in $p(Epoch_{t+1}| Epoch_{t})$ unrealistically high.\n",
    " \n",
    " \n",
    "## Experiment\n",
    "The following experiment addresses these concern:\n",
    "\n",
    " __Step 1__\n",
    " - write a callback function that is executed per epoch. \n",
    " - on execution, perform two actions: sample the learned posterior distribution of the $\\theta (Doc \\times Topics)$ both once and $10\\'000$ times.\n",
    " - cease after $100$ epochs as the developement of the $\\theta$ probabilities should be readily examinable.\n",
    " \n",
    "__Step 2__\n",
    " - Collected data needs be restructured, as the sequence collects data in order of occurance (Epoch --> Document --> Topic) however a simpler to analyse format would constitute (Document --> Epoch --> Topic) as the goal is to investigate the distribution of topic allocation over the iterative process.\n",
    " \n",
    "__Step 3__\n",
    " - The reordered data is then plotted and the topic allocation per epoch is aparent. "
   ]
  },
  {
   "cell_type": "code",
   "execution_count": 1,
   "metadata": {},
   "outputs": [
    {
     "name": "stdout",
     "output_type": "stream",
     "text": [
      "env: THEANO_FLAGS=device=cpu,floatX=float64\n"
     ]
    }
   ],
   "source": [
    "%matplotlib inline\n",
    "import sys, os\n",
    "%env THEANO_FLAGS=device=cpu,floatX=float64\n",
    "import theano\n",
    "\n",
    "\n",
    "from collections import OrderedDict\n",
    "from copy import deepcopy\n",
    "import numpy as np\n",
    "import pandas as pd\n",
    "from time import time\n",
    "from sklearn.feature_extraction.text import TfidfVectorizer, CountVectorizer\n",
    "from sklearn.datasets import fetch_20newsgroups\n",
    "import matplotlib.pyplot as plt\n",
    "import seaborn as sns\n",
    "from theano import shared\n",
    "import theano.tensor as tt\n",
    "from theano.sandbox.rng_mrg import MRG_RandomStreams\n",
    "\n",
    "import pymc3 as pm\n",
    "from pymc3 import math as pmmath\n",
    "from pymc3 import Dirichlet\n",
    "from pymc3.distributions.transforms import t_stick_breaking\n",
    "plt.style.use('seaborn-darkgrid')\n",
    "\n",
    "import warnings\n",
    "warnings.filterwarnings(\"ignore\")\n",
    "\n",
    "import warnings\n",
    "warnings.filterwarnings(\"ignore\")"
   ]
  },
  {
   "cell_type": "markdown",
   "metadata": {},
   "source": [
    "# Dataset\n",
    "\n",
    "20NewsGroups"
   ]
  },
  {
   "cell_type": "code",
   "execution_count": 2,
   "metadata": {},
   "outputs": [
    {
     "name": "stdout",
     "output_type": "stream",
     "text": [
      "Loading dataset...\n",
      "done in 2.000s.\n",
      "Extracting tf features for LDA...\n",
      "done in 2.456s.\n"
     ]
    }
   ],
   "source": [
    "# The number of words in the vocabulary\n",
    "n_words = 1000\n",
    "\n",
    "print(\"Loading dataset...\")\n",
    "t0 = time()\n",
    "dataset = fetch_20newsgroups(shuffle=True, random_state=1,\n",
    "                             remove=('headers', 'footers', 'quotes'))\n",
    "data_samples = dataset.data\n",
    "print(\"done in %0.3fs.\" % (time() - t0))\n",
    "\n",
    "\n",
    "\n",
    "# Use tf (raw term count) features for LDA.\n",
    "print(\"Extracting tf features for LDA...\")\n",
    "tf_vectorizer = CountVectorizer(max_df=0.95, min_df=2, max_features=n_words,\n",
    "                                stop_words='english')\n",
    "\n",
    "t0 = time()\n",
    "tf = tf_vectorizer.fit_transform(data_samples)\n",
    "feature_names = tf_vectorizer.get_feature_names()\n",
    "print(\"done in %0.3fs.\" % (time() - t0))"
   ]
  },
  {
   "cell_type": "markdown",
   "metadata": {},
   "source": [
    "# Train-Test-Split"
   ]
  },
  {
   "cell_type": "code",
   "execution_count": 3,
   "metadata": {},
   "outputs": [
    {
     "name": "stdout",
     "output_type": "stream",
     "text": [
      "Number of docs for training = 7920\n",
      "Number of docs for testing = 3394\n",
      "Number of tokens in training set = 384502\n",
      "Sparsity = 0.0255030303030303\n"
     ]
    }
   ],
   "source": [
    "# We split the whole documents into training and test sets. \n",
    "# The number of tokens in the training set is 480K. \n",
    "# Sparsity of the term-frequency document matrix is 0.025%, which implies almost all components in the term-frequency matrix is zero\n",
    "\n",
    "\n",
    "n_samples_tr = round(tf.shape[0] * 0.7) # testing on 70%\n",
    "n_samples_te = tf.shape[0] - n_samples_tr\n",
    "docs_tr = tf[:n_samples_tr, :]\n",
    "docs_te = tf[n_samples_tr:, :]\n",
    "print('Number of docs for training = {}'.format(docs_tr.shape[0]))\n",
    "print('Number of docs for testing = {}'.format(docs_te.shape[0]))\n",
    "\n",
    "\n",
    "n_tokens = np.sum(docs_tr[docs_tr.nonzero()])\n",
    "print('Number of tokens in training set = {}'.format(n_tokens))\n",
    "print('Sparsity = {}'.format(\n",
    "    len(docs_tr.nonzero()[0]) / float(docs_tr.shape[0] * docs_tr.shape[1])))"
   ]
  },
  {
   "cell_type": "markdown",
   "metadata": {},
   "source": [
    "# Specify the Model"
   ]
  },
  {
   "cell_type": "code",
   "execution_count": 4,
   "metadata": {},
   "outputs": [
    {
     "data": {
      "text/plain": [
       "[w0, b0, w1, b1]"
      ]
     },
     "execution_count": 4,
     "metadata": {},
     "output_type": "execute_result"
    }
   ],
   "source": [
    "n_topics = 10\n",
    "\n",
    "def logp_lda_doc(beta, theta):\n",
    "  \n",
    "  \"\"\"Returns the log-likelihood function for given documents.\n",
    "  \n",
    "  K : number of topics in the model\n",
    "  V : number of words (size of vocabulary)\n",
    "  D : number of documents (in a mini-batch)\n",
    "  \n",
    "  Parameters\n",
    "  ----------\n",
    "  beta : tensor (K x V)\n",
    "      Word distribution.\n",
    "  theta : tensor (D x K)\n",
    "      Topic distributions for the documents.\n",
    "  \"\"\"\n",
    "  \n",
    "  def ll_docs_f(docs):\n",
    "    \n",
    "    dixs, vixs = docs.nonzero()\n",
    "    vfreqs = docs[dixs, vixs]\n",
    "    ll_docs = vfreqs * pmmath.logsumexp(\n",
    "          tt.log(theta[dixs]) + tt.log(beta.T[vixs]), axis=1).ravel()\n",
    "      \n",
    "    # Per-word log-likelihood times no. of tokens in the whole dataset\n",
    "    return tt.sum(ll_docs) / (tt.sum(vfreqs)+1e-9) * n_tokens\n",
    "\n",
    "  return ll_docs_f\n",
    "\n",
    "\n",
    "\n",
    "# we have sparse dataset. It's better to have dence batch so that all words accure there\n",
    "minibatch_size = 128\n",
    "\n",
    "# defining minibatch\n",
    "doc_t_minibatch = pm.Minibatch(docs_tr.toarray(), minibatch_size)\n",
    "doc_t = shared(docs_tr.toarray()[:minibatch_size])\n",
    "\n",
    "with pm.Model() as model:\n",
    "  theta = Dirichlet('theta', a=pm.floatX((1.0 / n_topics) * np.ones((minibatch_size, n_topics))),\n",
    "                   shape=(minibatch_size, n_topics), transform=t_stick_breaking(1e-9),\n",
    "                   # do not forget scaling\n",
    "                   total_size = n_samples_tr)\n",
    "  beta = Dirichlet('beta', a=pm.floatX((1.0 / n_topics) * np.ones((n_topics, n_words))),\n",
    "                 shape=(n_topics, n_words), transform=t_stick_breaking(1e-9))\n",
    "  # Note, that we defined likelihood with scaling, so here we need no additional `total_size` kwarg\n",
    "  doc = pm.DensityDist('doc', logp_lda_doc(beta, theta), observed=doc_t)\n",
    "    \n",
    "    \n",
    "    \n",
    "class LDAEncoder:\n",
    "  \"\"\"Encode (term-frequency) document vectors to variational means and (log-transformed) stds.\n",
    "  \"\"\"\n",
    "  def __init__(self, n_words, n_hidden, n_topics, p_corruption=0, random_seed=1):\n",
    "    rng = np.random.RandomState(random_seed)\n",
    "    self.n_words = n_words\n",
    "    self.n_hidden = n_hidden\n",
    "    self.n_topics = n_topics\n",
    "    self.w0 = shared(0.01 * rng.randn(n_words, n_hidden).ravel(), name='w0')\n",
    "    \n",
    "\n",
    "\n",
    "\n",
    "class LDAEncoder:\n",
    "    \"\"\"Encode (term-frequency) document vectors to variational means and (log-transformed) stds.\n",
    "    \"\"\"\n",
    "    def __init__(self, n_words, n_hidden, n_topics, p_corruption=0, random_seed=1):\n",
    "        rng = np.random.RandomState(random_seed)\n",
    "        self.n_words = n_words\n",
    "        self.n_hidden = n_hidden\n",
    "        self.n_topics = n_topics\n",
    "        self.w0 = shared(0.01 * rng.randn(n_words, n_hidden).ravel(), name='w0')\n",
    "        self.b0 = shared(0.01 * rng.randn(n_hidden), name='b0')\n",
    "        self.w1 = shared(0.01 * rng.randn(n_hidden, 2 * (n_topics - 1)).ravel(), name='w1')\n",
    "        self.b1 = shared(0.01 * rng.randn(2 * (n_topics - 1)), name='b1')\n",
    "        self.rng = MRG_RandomStreams(seed=random_seed)\n",
    "        self.p_corruption = p_corruption\n",
    "\n",
    "    def encode(self, xs):\n",
    "        if 0 < self.p_corruption:\n",
    "            dixs, vixs = xs.nonzero()\n",
    "            mask = tt.set_subtensor(\n",
    "                tt.zeros_like(xs)[dixs, vixs],\n",
    "                self.rng.binomial(size=dixs.shape, n=1, p=1-self.p_corruption)\n",
    "            )\n",
    "            xs_ = xs * mask\n",
    "        else:\n",
    "            xs_ = xs\n",
    "\n",
    "        w0 = self.w0.reshape((self.n_words, self.n_hidden))\n",
    "        w1 = self.w1.reshape((self.n_hidden, 2 * (self.n_topics - 1)))\n",
    "        hs = tt.tanh(xs_.dot(w0) + self.b0)\n",
    "        zs = hs.dot(w1) + self.b1\n",
    "        zs_mean = zs[:, :(self.n_topics - 1)]\n",
    "        zs_rho = zs[:, (self.n_topics - 1):]\n",
    "        return {'mu': zs_mean, 'rho':zs_rho}\n",
    "\n",
    "    def get_params(self):\n",
    "        return [self.w0, self.b0, self.w1, self.b1]\n",
    "    \n",
    "    \n",
    "\n",
    "    \n",
    "encoder = LDAEncoder(n_words=n_words, n_hidden=100, n_topics=n_topics, p_corruption=0.0)\n",
    "local_RVs = OrderedDict([(theta, encoder.encode(doc_t))])\n",
    "local_RVs\n",
    "\n",
    "encoder_params = encoder.get_params()\n",
    "encoder_params"
   ]
  },
  {
   "cell_type": "markdown",
   "metadata": {},
   "source": [
    "# Additional Callback\n",
    "\n",
    "The callback below samples $\\theta$ over each epoch in the model, assessing the sampling variation of the $\\theta$ as the model is trained allows us to monitor the entire process.\n",
    "\n",
    "It is possible that certain topics are **Dismissed** after inadequate sample representation in the initial - random - conditions."
   ]
  },
  {
   "cell_type": "code",
   "execution_count": 5,
   "metadata": {},
   "outputs": [],
   "source": [
    "tacker_thetas = []\n",
    "tacker_thetas_1 = []\n",
    "\n",
    "def my_callback(a,h,i):\n",
    "    tacker_thetas.append(pm.sample_approx(approx, draws=10000)['theta'].mean(axis=0))\n",
    "    tacker_thetas_1.append(pm.sample_approx(approx, draws=1)['theta'].mean(axis=0))\n",
    "    a = a\n",
    "    h = h\n",
    "    i = i \n",
    "    \n",
    "  #   tacker_betas.append(approx.model.beta)"
   ]
  },
  {
   "cell_type": "code",
   "execution_count": 6,
   "metadata": {},
   "outputs": [
    {
     "name": "stderr",
     "output_type": "stream",
     "text": [
      "Average Loss = 2.8997e+06: 100%|██████████| 100/100 [45:42<00:00, 25.37s/it]\n",
      "Finished [100%]: Average Loss = 2.8819e+06\n"
     ]
    },
    {
     "data": {
      "text/plain": [
       "<pymc3.variational.approximations.MeanField at 0x1c1a021cc0>"
      ]
     },
     "execution_count": 6,
     "metadata": {},
     "output_type": "execute_result"
    }
   ],
   "source": [
    "η = .1\n",
    "s = shared(η)\n",
    "def reduce_rate(a, h, i):\n",
    "    s.set_value(η/((i/minibatch_size)+1)**.7)\n",
    "\n",
    "with model:\n",
    "    approx = pm.MeanField(local_rv=local_RVs)\n",
    "    approx.scale_cost_to_minibatch = False\n",
    "    inference = pm.KLqp(approx)\n",
    "inference.fit(100, callbacks=[reduce_rate, my_callback], obj_optimizer=pm.sgd(learning_rate=s),\n",
    "              more_obj_params=encoder_params, total_grad_norm_constraint=200,\n",
    "              more_replacements={doc_t:doc_t_minibatch})"
   ]
  },
  {
   "cell_type": "code",
   "execution_count": 9,
   "metadata": {},
   "outputs": [
    {
     "data": {
      "text/plain": [
       "(50, 128, 10)"
      ]
     },
     "execution_count": 9,
     "metadata": {},
     "output_type": "execute_result"
    }
   ],
   "source": [
    "np.shape(tacker_thetas[50:])"
   ]
  },
  {
   "cell_type": "code",
   "execution_count": 24,
   "metadata": {},
   "outputs": [],
   "source": [
    "# Save data\n",
    "import pickle\n",
    "\n",
    "# 1 sample theta \n",
    "pickle_out = open(\"file_tacker_thetas_1.pkl\",\"wb\")\n",
    "pickle.dump(tacker_thetas_1, pickle_out)\n",
    "pickle_out.close()\n",
    "\n",
    "# 10'000 sample theta \n",
    "pickle_out = open(\"file_tacker_thetas.pkl\",\"wb\")\n",
    "pickle.dump(tacker_thetas, pickle_out)\n",
    "pickle_out.close()\n"
   ]
  },
  {
   "cell_type": "code",
   "execution_count": 25,
   "metadata": {},
   "outputs": [
    {
     "name": "stdout",
     "output_type": "stream",
     "text": [
      "(100, 128, 10)\n",
      "(100, 128, 10)\n"
     ]
    }
   ],
   "source": [
    "# Reload files \n",
    "pickle_in = open(\"file_tacker_thetas_1.pkl\",\"rb\")\n",
    "tacker_thetas_1 = pickle.load(pickle_in)\n",
    "print(np.shape(tacker_thetas_1))\n",
    "\n",
    "pickle_in = open(\"file_tacker_thetas.pkl\",\"rb\")\n",
    "tacker_thetas = pickle.load(pickle_in)\n",
    "print(np.shape(tacker_thetas))"
   ]
  },
  {
   "cell_type": "markdown",
   "metadata": {},
   "source": [
    "# Reformat the Matrix\n",
    "\n",
    "The resulting is matrix is collected in the sequence:\n",
    "   \n",
    "**Epoch --> Documents (batch) --> Topics**\n",
    "\n",
    "This is unavoidable as it is the order the data is generated, however a more useful compolation would be:\n",
    "\n",
    "**Documents --> Epoch --> Topics**\n",
    "\n",
    "To more readly assess how topics are allocated to a particular document overtime."
   ]
  },
  {
   "cell_type": "code",
   "execution_count": 26,
   "metadata": {},
   "outputs": [
    {
     "name": "stdout",
     "output_type": "stream",
     "text": [
      "(128, 100, 10)\n",
      "(128, 100, 10)\n"
     ]
    }
   ],
   "source": [
    "\n",
    "# reshape to (128x100x10) Doc -> epoch -> topic\n",
    "\n",
    "reshaped_sampled_thetas = []\n",
    "for i in range(np.shape(tacker_thetas)[1]):\n",
    "    # for each document\n",
    "    \n",
    "    reshaped_sampled_thetas.append(np.array(tacker_thetas)[:,i,:])\n",
    "    \n",
    "\n",
    "# perform the same for the 1 theta sample\n",
    "reshaped_sampled_thetas_1 = []\n",
    "for i in range(np.shape(tacker_thetas_1)[1]):\n",
    "    # for each document\n",
    "    \n",
    "    reshaped_sampled_thetas_1.append(np.array(tacker_thetas_1)[:,i,:])\n",
    "    \n",
    "print(np.shape(reshaped_sampled_thetas))\n",
    "print(np.shape(reshaped_sampled_thetas_1))"
   ]
  },
  {
   "cell_type": "code",
   "execution_count": 202,
   "metadata": {
    "scrolled": true
   },
   "outputs": [
    {
     "data": {
      "text/plain": [
       "0.0003393791541217386"
      ]
     },
     "execution_count": 202,
     "metadata": {},
     "output_type": "execute_result"
    }
   ],
   "source": [
    "reshaped_sampled_thetas[0][0][0]"
   ]
  },
  {
   "cell_type": "markdown",
   "metadata": {},
   "source": [
    "# Topic Allocation over 100 Epochs\n",
    "## 10'000 theta samples\n",
    "\n",
    "The graphic below randomly selects $12$ documents (of the $128$ used for the first training batch). Each column represents a documents - ranging vertically from $Epoch_0$ to $Epoch_100$. Each column ranges horizontally from $Topic_0$ to $Topic_10$ - since $10$ topics are learnt in this model specification."
   ]
  },
  {
   "cell_type": "code",
   "execution_count": 228,
   "metadata": {},
   "outputs": [
    {
     "name": "stdout",
     "output_type": "stream",
     "text": [
      "first value:  0.06798485615469588\n",
      "\n",
      " 10'000 Posterior Samples per Epoch (Averaged)\n"
     ]
    },
    {
     "data": {
      "image/png": "[encoded data removed]",
      "text/plain": [
       "<Figure size 900x900 with 12 Axes>"
      ]
     },
     "metadata": {},
     "output_type": "display_data"
    }
   ],
   "source": [
    "# Shuffle matrix to view a wide spectrum of \n",
    "from sklearn.utils import shuffle\n",
    "shuffle_docs = shuffle(reshaped_sampled_thetas)\n",
    "\n",
    "fig = plt.figure(figsize=(9,9))\n",
    "columns = 12                                              # number of randomly selected documents to inspect\n",
    "rows = np.shape(shuffle_docs)[1]                          # number of Epochs\n",
    "\n",
    "print('first value: ', shuffle_docs[0][0][0])\n",
    "print('\\n 10\\'000 Posterior Samples per Epoch (Averaged)')\n",
    "\n",
    "plt.style.use('default')\n",
    "\n",
    "for i in range(1,columns+1):  \n",
    "    display_doc = shuffle_docs[i]\n",
    "    fig.add_subplot(1,columns, i)\n",
    "    if i > 1 :\n",
    "        plt.yticks([])\n",
    "    plt.imshow(display_doc, cmap='Blues')\n",
    "plt.show()"
   ]
  },
  {
   "cell_type": "markdown",
   "metadata": {},
   "source": [
    "## 10'000 samples conclusion\n",
    "\n",
    "It appears inherently clear that topic allocation is heavily skewed towards topics $K \\in (0,1,2)$ - even in the very early stages of training. Assessing an individual document is futile as this behaviour would be warrented in the case where a single document is dominated by one topic and quickly allocated as such. One would expect a more uniform distribution initially and thereafter topics to be pruned until the true topics emerge. Emperically the first few topics are arbitrarily allotted to nearly all documents.\n",
    "\n",
    "The same results can be expected in the case of $K=20$ topics.\n",
    "\n",
    "\n",
    "# Topic Allocation over the 128 batch\n",
    "\n",
    "Summing the Theta distributions over each topic - over the 100 iterations and over each document - yields the following (highly biased) results.\n",
    "\n",
    "## Less Epochs\n",
    "\n",
    "Prehaps a more conservative approach is to look at the distribution of topic allocation over a smaller range of epochs: as, however unlikely, it is possible the topics are adequately learnt after 100 Epochs. Assessing a smaller computational range allows us to confirm the autoencoder does not sufficiently explore the space of possiblities and too readily fixates weightings and biases on initial topics - supporting the finding that the autoencoder performed best on simple ($K$ is small) topics."
   ]
  },
  {
   "cell_type": "code",
   "execution_count": 213,
   "metadata": {},
   "outputs": [
    {
     "data": {
      "image/png": "[encoded data removed]",
      "text/plain": [
       "<Figure size 1000x400 with 2 Axes>"
      ]
     },
     "metadata": {},
     "output_type": "display_data"
    }
   ],
   "source": [
    "topic_sums = np.sum(np.sum(reshaped_sampled_thetas, axis=1), axis=0)\n",
    "x = np.arange(1 ,len(topic_sums)+1)\n",
    "\n",
    "\n",
    "fig, axs = plt.subplots(1, 2, figsize=(10,4))\n",
    "fig.suptitle('Topic Allocation Distribution')\n",
    "\n",
    "axs[0].title.set_text('First 100 Epochs')\n",
    "axs[0].hist(np.repeat(x, [int(i) for i in np.round(topic_sums)]),\n",
    "           color='darkmagenta', alpha=0.65)\n",
    "\n",
    "\n",
    "# for the first 5 epochs only\n",
    "topic_sums = np.sum(np.sum(np.array(reshaped_sampled_thetas)[:,:5,:], axis=0), axis=0)\n",
    "axs[1].title.set_text('First 5 Epochs')\n",
    "axs[1].hist(np.repeat(x, [int(i) for i in np.round(topic_sums)]),\n",
    "           color='darkgreen', alpha=0.7);\n"
   ]
  },
  {
   "cell_type": "markdown",
   "metadata": {},
   "source": [
    "# Compute the same for the 1 Posterior Sample\n",
    "\n",
    "In the condition where the intermediate posterior is sampled $10'000$ times, we assess the actual distribution of the learned parameters. \n",
    "\n",
    "As we have seen these distributions are cemented with a relatively small series of epochs, assessing a single sample from the posterior, may allow us to gauge the 'randomness' of the posterior sampling process. A large sample ($10'000$ in this experiment) produces an estimate near the true parameter value, where a sample of $1$ should near true randomness. These samples still appear biased towards topics $\\in (0,1,2)$.\n",
    "\n",
    "## Interpretation\n",
    "\n",
    "It is apparent the Auto-encoder biases the initial wieghts - whether randomly or by design - towards the lower topics. This can be observed as for even the first few epochs the distribution is skewed towards these topics (yielding higher probabilistic values).\n",
    "\n",
    "Taking a single sample from the distribution neglects the true distribution and only offers a sample statistic. We can see from the code below that the sample is far more likely to come from topics $0 \\to 4$ than from topics $5 \\to 10$. Further, these initial choices are soon cemented as after $60$ epochs it is very likely to sample from the same distribution as the previous epoch."
   ]
  },
  {
   "cell_type": "code",
   "execution_count": 223,
   "metadata": {},
   "outputs": [
    {
     "name": "stdout",
     "output_type": "stream",
     "text": [
      "first value:  0.000450128179415125\n",
      "\n",
      " 1 Posterior Sample per Epoch\n"
     ]
    },
    {
     "data": {
      "image/png": "[encoded data removed]",
      "text/plain": [
       "<Figure size 950x900 with 12 Axes>"
      ]
     },
     "metadata": {},
     "output_type": "display_data"
    }
   ],
   "source": [
    "# Shuffle matrix to view a wide spectrum of \n",
    "from sklearn.utils import shuffle\n",
    "shuffle_docs = shuffle(reshaped_sampled_thetas_1)\n",
    "\n",
    "fig = plt.figure(figsize=(9.5,9))\n",
    "columns = 12                                              # number of randomly selected documents to inspect\n",
    "rows = np.shape(shuffle_docs)[1]                          # number of Epochs\n",
    "\n",
    "print('first value: ', shuffle_docs[0][0][0])\n",
    "print('\\n 1 Posterior Sample per Epoch')\n",
    "\n",
    "plt.style.use('default')\n",
    "for i in range(1,columns+1):  \n",
    "    display_doc = shuffle_docs[i]\n",
    "    fig.add_subplot(1,columns, i)\n",
    "    if i > 1 :\n",
    "        plt.yticks([])\n",
    "    plt.imshow(display_doc, cmap='BuPu')\n",
    "  \n",
    "plt.show()\n",
    "\n",
    "# cividis, viridis, Blues, BuPu"
   ]
  },
  {
   "cell_type": "markdown",
   "metadata": {},
   "source": [
    "# Theta Value Updating\n",
    "\n",
    "To further investigate the probabilistic vlaues of the learned $\\theta$ distribution, the following function returns the theta distribution per epoch for $5$ documents.\n",
    "\n",
    "More sophisticated analysis may include computing the correlation between Epochs for a given document, or conditionaly probabilities of $P(Epoch_t | Epoch_{t-1})$."
   ]
  },
  {
   "cell_type": "code",
   "execution_count": 28,
   "metadata": {
    "scrolled": false
   },
   "outputs": [
    {
     "name": "stdout",
     "output_type": "stream",
     "text": [
      "Document: 1 \n",
      " Epoch:  1\n",
      "[0.    0.302 0.036 0.    0.001 0.201 0.01  0.331 0.118 0.   ]\n",
      "\n",
      "\n",
      "Document: 1 \n",
      " Epoch:  2\n",
      "[0.    0.018 0.    0.003 0.008 0.161 0.015 0.    0.122 0.672]\n",
      "\n",
      "\n",
      "Document: 1 \n",
      " Epoch:  3\n",
      "[0. 0. 0. 1. 0. 0. 0. 0. 0. 0.]\n",
      "\n",
      "\n",
      "Document: 1 \n",
      " Epoch:  4\n",
      "[1. 0. 0. 0. 0. 0. 0. 0. 0. 0.]\n",
      "\n",
      "\n",
      "Document: 1 \n",
      " Epoch:  5\n",
      "[0.007 0.    0.    0.    0.993 0.    0.    0.    0.    0.   ]\n",
      "\n",
      "\n",
      "\n",
      "\n",
      "\n",
      "Document: 2 \n",
      " Epoch:  1\n",
      "[0.032 0.064 0.002 0.882 0.    0.003 0.    0.001 0.005 0.01 ]\n",
      "\n",
      "\n",
      "Document: 2 \n",
      " Epoch:  2\n",
      "[0.007 0.716 0.01  0.    0.006 0.004 0.005 0.196 0.055 0.   ]\n",
      "\n",
      "\n",
      "Document: 2 \n",
      " Epoch:  3\n",
      "[0. 0. 0. 1. 0. 0. 0. 0. 0. 0.]\n",
      "\n",
      "\n",
      "Document: 2 \n",
      " Epoch:  4\n",
      "[0.048 0.952 0.    0.    0.    0.    0.    0.    0.    0.   ]\n",
      "\n",
      "\n",
      "Document: 2 \n",
      " Epoch:  5\n",
      "[0.466 0.    0.    0.    0.534 0.    0.    0.    0.    0.   ]\n",
      "\n",
      "\n",
      "\n",
      "\n",
      "\n",
      "Document: 3 \n",
      " Epoch:  1\n",
      "[0.004 0.    0.015 0.094 0.001 0.268 0.134 0.028 0.272 0.185]\n",
      "\n",
      "\n",
      "Document: 3 \n",
      " Epoch:  2\n",
      "[0.019 0.138 0.557 0.    0.    0.005 0.192 0.    0.075 0.013]\n",
      "\n",
      "\n",
      "Document: 3 \n",
      " Epoch:  3\n",
      "[0. 0. 0. 1. 0. 0. 0. 0. 0. 0.]\n",
      "\n",
      "\n",
      "Document: 3 \n",
      " Epoch:  4\n",
      "[0. 1. 0. 0. 0. 0. 0. 0. 0. 0.]\n",
      "\n",
      "\n",
      "Document: 3 \n",
      " Epoch:  5\n",
      "[0.056 0.    0.    0.937 0.006 0.    0.    0.    0.    0.   ]\n",
      "\n",
      "\n",
      "\n",
      "\n",
      "\n",
      "Document: 4 \n",
      " Epoch:  1\n",
      "[0.023 0.013 0.002 0.103 0.    0.469 0.371 0.001 0.018 0.   ]\n",
      "\n",
      "\n",
      "Document: 4 \n",
      " Epoch:  2\n",
      "[0.003 0.01  0.184 0.001 0.003 0.043 0.672 0.001 0.083 0.   ]\n",
      "\n",
      "\n",
      "Document: 4 \n",
      " Epoch:  3\n",
      "[0. 0. 0. 1. 0. 0. 0. 0. 0. 0.]\n",
      "\n",
      "\n",
      "Document: 4 \n",
      " Epoch:  4\n",
      "[0. 0. 0. 0. 0. 0. 1. 0. 0. 0.]\n",
      "\n",
      "\n",
      "Document: 4 \n",
      " Epoch:  5\n",
      "[0.15  0.    0.002 0.    0.848 0.    0.    0.    0.    0.   ]\n",
      "\n",
      "\n",
      "\n",
      "\n",
      "\n",
      "Document: 5 \n",
      " Epoch:  1\n",
      "[0.002 0.157 0.02  0.548 0.199 0.004 0.001 0.002 0.004 0.064]\n",
      "\n",
      "\n",
      "Document: 5 \n",
      " Epoch:  2\n",
      "[0.006 0.006 0.973 0.    0.    0.005 0.003 0.    0.003 0.003]\n",
      "\n",
      "\n",
      "Document: 5 \n",
      " Epoch:  3\n",
      "[0. 0. 0. 1. 0. 0. 0. 0. 0. 0.]\n",
      "\n",
      "\n",
      "Document: 5 \n",
      " Epoch:  4\n",
      "[0.775 0.    0.225 0.    0.    0.    0.    0.    0.    0.   ]\n",
      "\n",
      "\n",
      "Document: 5 \n",
      " Epoch:  5\n",
      "[0.501 0.    0.    0.    0.499 0.    0.    0.    0.    0.   ]\n",
      "\n",
      "\n",
      "\n",
      "\n",
      "\n"
     ]
    }
   ],
   "source": [
    "np.round(tacker_thetas_1[0][0], 3)\n",
    "\n",
    "\n",
    "for i in range(5):\n",
    "    # for the first 5 EPOCHS\n",
    "    \n",
    "    for j in range(5):\n",
    "        # for the first 5 documents \n",
    "    \n",
    "        print('Document:', i+1, '\\n Epoch: ',j+1)\n",
    "        print(np.round(tacker_thetas_1[j][i], 3))\n",
    "        print('\\n')\n",
    "    \n",
    "    print('\\n\\n')"
   ]
  }
 ],
 "metadata": {
  "kernelspec": {
   "display_name": "Python 3",
   "language": "python",
   "name": "python3"
  },
  "language_info": {
   "codemirror_mode": {
    "name": "ipython",
    "version": 3
   },
   "file_extension": ".py",
   "mimetype": "text/x-python",
   "name": "python",
   "nbconvert_exporter": "python",
   "pygments_lexer": "ipython3",
   "version": "3.7.3"
  }
 },
 "nbformat": 4,
 "nbformat_minor": 2
}
